{
 "cells": [
  {
   "cell_type": "markdown",
   "metadata": {},
   "source": [
    "### Using Name corpus, calculating the probability of a name being of a male or female base on the last character(s) of name."
   ]
  },
  {
   "cell_type": "code",
   "execution_count": 43,
   "metadata": {
    "collapsed": true
   },
   "outputs": [],
   "source": [
    "from nltk.corpus import names\n",
    "import string"
   ]
  },
  {
   "cell_type": "code",
   "execution_count": 44,
   "metadata": {
    "collapsed": false
   },
   "outputs": [
    {
     "data": {
      "text/plain": [
       "['female.txt', 'male.txt']"
      ]
     },
     "execution_count": 44,
     "metadata": {},
     "output_type": "execute_result"
    }
   ],
   "source": [
    "names.fileids()"
   ]
  },
  {
   "cell_type": "code",
   "execution_count": 45,
   "metadata": {
    "collapsed": false
   },
   "outputs": [
    {
     "name": "stdout",
     "output_type": "stream",
     "text": [
      "['a', 'b', 'c', 'd', 'e', 'f', 'g', 'h', 'i', 'j', 'k', 'l', 'm', 'n', 'o', 'p', 'q', 'r', 's', 't', 'u', 'v', 'w', 'x', 'y', 'z']\n"
     ]
    }
   ],
   "source": [
    "char_list = list(string.ascii_lowercase)\n",
    "print(char_list)"
   ]
  },
  {
   "cell_type": "code",
   "execution_count": 46,
   "metadata": {
    "collapsed": true
   },
   "outputs": [],
   "source": [
    "female_names = names.words('female.txt')"
   ]
  },
  {
   "cell_type": "code",
   "execution_count": 47,
   "metadata": {
    "collapsed": false
   },
   "outputs": [],
   "source": [
    "female_dis = []"
   ]
  },
  {
   "cell_type": "code",
   "execution_count": 48,
   "metadata": {
    "collapsed": false
   },
   "outputs": [],
   "source": [
    "for char in char_list:\n",
    "    female_dis.append((char, len([lambda : name for name in female_names if name.endswith(char)])))"
   ]
  },
  {
   "cell_type": "code",
   "execution_count": 49,
   "metadata": {
    "collapsed": false
   },
   "outputs": [
    {
     "name": "stdout",
     "output_type": "stream",
     "text": [
      "[('a', 1773), ('b', 9), ('c', 0), ('d', 39), ('e', 1432), ('f', 2), ('g', 10), ('h', 105), ('i', 317), ('j', 1), ('k', 3), ('l', 179), ('m', 13), ('n', 386), ('o', 33), ('p', 2), ('q', 0), ('r', 47), ('s', 93), ('t', 68), ('u', 6), ('v', 2), ('w', 5), ('x', 10), ('y', 461), ('z', 4)]\n"
     ]
    }
   ],
   "source": [
    "print(female_dis)"
   ]
  },
  {
   "cell_type": "code",
   "execution_count": 50,
   "metadata": {
    "collapsed": true
   },
   "outputs": [],
   "source": [
    "male_names = names.words('male.txt')"
   ]
  },
  {
   "cell_type": "code",
   "execution_count": 51,
   "metadata": {
    "collapsed": true
   },
   "outputs": [],
   "source": [
    "male_dis = []"
   ]
  },
  {
   "cell_type": "code",
   "execution_count": 52,
   "metadata": {
    "collapsed": true
   },
   "outputs": [],
   "source": [
    "for char in char_list:\n",
    "    male_dis.append((char, len([lambda : name for name in male_names if name.endswith(char)])))"
   ]
  },
  {
   "cell_type": "code",
   "execution_count": 53,
   "metadata": {
    "collapsed": false
   },
   "outputs": [
    {
     "name": "stdout",
     "output_type": "stream",
     "text": [
      "[('a', 29), ('b', 21), ('c', 25), ('d', 228), ('e', 468), ('f', 25), ('g', 32), ('h', 93), ('i', 50), ('j', 3), ('k', 69), ('l', 187), ('m', 70), ('n', 478), ('o', 165), ('p', 18), ('q', 0), ('r', 190), ('s', 230), ('t', 164), ('u', 12), ('v', 16), ('w', 17), ('x', 10), ('y', 332), ('z', 11)]\n"
     ]
    }
   ],
   "source": [
    "print(male_dis)"
   ]
  },
  {
   "cell_type": "code",
   "execution_count": 54,
   "metadata": {
    "collapsed": true
   },
   "outputs": [],
   "source": [
    "probability_list = []\n",
    "df_list = []\n",
    "index = 0"
   ]
  },
  {
   "cell_type": "code",
   "execution_count": 55,
   "metadata": {
    "collapsed": false
   },
   "outputs": [],
   "source": [
    "for char in char_list:\n",
    "    total = male_dis[index][1] + female_dis[index][1]\n",
    "    if total != 0:       # Return Error without this line when loop runs to character 'q' -- Divided by zero!\n",
    "        male_pro = 100 * male_dis[index][1] / total\n",
    "        female_pro = 100 * female_dis[index][1] / total\n",
    "        probability_list.append((char,{'male': male_pro, 'female': female_pro}))\n",
    "        df_list.append((char,[male_pro, female_pro]))\n",
    "    else:\n",
    "        probability_list.append((char,{'male': 0, 'female': 0}))\n",
    "        df_list.append((char,[0, 0]))\n",
    "    index += 1"
   ]
  },
  {
   "cell_type": "code",
   "execution_count": 56,
   "metadata": {
    "collapsed": false
   },
   "outputs": [
    {
     "name": "stdout",
     "output_type": "stream",
     "text": [
      "The Probability of a Name being a Male or Female:\n",
      " [('a', {'female': 98.3906770255272, 'male': 1.609322974472808}), ('b', {'female': 30.0, 'male': 70.0}), ('c', {'female': 0.0, 'male': 100.0}), ('d', {'female': 14.606741573033707, 'male': 85.3932584269663}), ('e', {'female': 75.36842105263158, 'male': 24.63157894736842}), ('f', {'female': 7.407407407407407, 'male': 92.5925925925926}), ('g', {'female': 23.80952380952381, 'male': 76.19047619047619}), ('h', {'female': 53.03030303030303, 'male': 46.96969696969697}), ('i', {'female': 86.37602179836512, 'male': 13.623978201634877}), ('j', {'female': 25.0, 'male': 75.0}), ('k', {'female': 4.166666666666667, 'male': 95.83333333333333}), ('l', {'female': 48.90710382513661, 'male': 51.09289617486339}), ('m', {'female': 15.662650602409638, 'male': 84.33734939759036}), ('n', {'female': 44.675925925925924, 'male': 55.324074074074076}), ('o', {'female': 16.666666666666668, 'male': 83.33333333333333}), ('p', {'female': 10.0, 'male': 90.0}), ('q', {'female': 0, 'male': 0}), ('r', {'female': 19.831223628691983, 'male': 80.16877637130801}), ('s', {'female': 28.792569659442723, 'male': 71.20743034055728}), ('t', {'female': 29.310344827586206, 'male': 70.6896551724138}), ('u', {'female': 33.333333333333336, 'male': 66.66666666666667}), ('v', {'female': 11.11111111111111, 'male': 88.88888888888889}), ('w', {'female': 22.727272727272727, 'male': 77.27272727272727}), ('x', {'female': 50.0, 'male': 50.0}), ('y', {'female': 58.13366960907945, 'male': 41.86633039092055}), ('z', {'female': 26.666666666666668, 'male': 73.33333333333333})]\n"
     ]
    }
   ],
   "source": [
    "print('The Probability of a Name being a Male or Female:\\n', probability_list)"
   ]
  },
  {
   "cell_type": "code",
   "execution_count": 57,
   "metadata": {
    "collapsed": true
   },
   "outputs": [],
   "source": [
    "import pandas as pd"
   ]
  },
  {
   "cell_type": "code",
   "execution_count": 58,
   "metadata": {
    "collapsed": false
   },
   "outputs": [],
   "source": [
    "new_df_list = [pro[1] for pro in df_list]"
   ]
  },
  {
   "cell_type": "code",
   "execution_count": 59,
   "metadata": {
    "collapsed": false
   },
   "outputs": [],
   "source": [
    "df = pd.DataFrame(new_df_list, index=char_list, columns=['Male', 'Female'])"
   ]
  },
  {
   "cell_type": "code",
   "execution_count": 60,
   "metadata": {
    "collapsed": false
   },
   "outputs": [
    {
     "data": {
      "text/html": [
       "<div>\n",
       "<table border=\"1\" class=\"dataframe\">\n",
       "  <thead>\n",
       "    <tr style=\"text-align: right;\">\n",
       "      <th></th>\n",
       "      <th>Male</th>\n",
       "      <th>Female</th>\n",
       "    </tr>\n",
       "  </thead>\n",
       "  <tbody>\n",
       "    <tr>\n",
       "      <th>a</th>\n",
       "      <td>1.609323</td>\n",
       "      <td>98.390677</td>\n",
       "    </tr>\n",
       "    <tr>\n",
       "      <th>b</th>\n",
       "      <td>70.000000</td>\n",
       "      <td>30.000000</td>\n",
       "    </tr>\n",
       "    <tr>\n",
       "      <th>c</th>\n",
       "      <td>100.000000</td>\n",
       "      <td>0.000000</td>\n",
       "    </tr>\n",
       "    <tr>\n",
       "      <th>d</th>\n",
       "      <td>85.393258</td>\n",
       "      <td>14.606742</td>\n",
       "    </tr>\n",
       "    <tr>\n",
       "      <th>e</th>\n",
       "      <td>24.631579</td>\n",
       "      <td>75.368421</td>\n",
       "    </tr>\n",
       "    <tr>\n",
       "      <th>f</th>\n",
       "      <td>92.592593</td>\n",
       "      <td>7.407407</td>\n",
       "    </tr>\n",
       "    <tr>\n",
       "      <th>g</th>\n",
       "      <td>76.190476</td>\n",
       "      <td>23.809524</td>\n",
       "    </tr>\n",
       "    <tr>\n",
       "      <th>h</th>\n",
       "      <td>46.969697</td>\n",
       "      <td>53.030303</td>\n",
       "    </tr>\n",
       "    <tr>\n",
       "      <th>i</th>\n",
       "      <td>13.623978</td>\n",
       "      <td>86.376022</td>\n",
       "    </tr>\n",
       "    <tr>\n",
       "      <th>j</th>\n",
       "      <td>75.000000</td>\n",
       "      <td>25.000000</td>\n",
       "    </tr>\n",
       "    <tr>\n",
       "      <th>k</th>\n",
       "      <td>95.833333</td>\n",
       "      <td>4.166667</td>\n",
       "    </tr>\n",
       "    <tr>\n",
       "      <th>l</th>\n",
       "      <td>51.092896</td>\n",
       "      <td>48.907104</td>\n",
       "    </tr>\n",
       "    <tr>\n",
       "      <th>m</th>\n",
       "      <td>84.337349</td>\n",
       "      <td>15.662651</td>\n",
       "    </tr>\n",
       "    <tr>\n",
       "      <th>n</th>\n",
       "      <td>55.324074</td>\n",
       "      <td>44.675926</td>\n",
       "    </tr>\n",
       "    <tr>\n",
       "      <th>o</th>\n",
       "      <td>83.333333</td>\n",
       "      <td>16.666667</td>\n",
       "    </tr>\n",
       "    <tr>\n",
       "      <th>p</th>\n",
       "      <td>90.000000</td>\n",
       "      <td>10.000000</td>\n",
       "    </tr>\n",
       "    <tr>\n",
       "      <th>q</th>\n",
       "      <td>0.000000</td>\n",
       "      <td>0.000000</td>\n",
       "    </tr>\n",
       "    <tr>\n",
       "      <th>r</th>\n",
       "      <td>80.168776</td>\n",
       "      <td>19.831224</td>\n",
       "    </tr>\n",
       "    <tr>\n",
       "      <th>s</th>\n",
       "      <td>71.207430</td>\n",
       "      <td>28.792570</td>\n",
       "    </tr>\n",
       "    <tr>\n",
       "      <th>t</th>\n",
       "      <td>70.689655</td>\n",
       "      <td>29.310345</td>\n",
       "    </tr>\n",
       "    <tr>\n",
       "      <th>u</th>\n",
       "      <td>66.666667</td>\n",
       "      <td>33.333333</td>\n",
       "    </tr>\n",
       "    <tr>\n",
       "      <th>v</th>\n",
       "      <td>88.888889</td>\n",
       "      <td>11.111111</td>\n",
       "    </tr>\n",
       "    <tr>\n",
       "      <th>w</th>\n",
       "      <td>77.272727</td>\n",
       "      <td>22.727273</td>\n",
       "    </tr>\n",
       "    <tr>\n",
       "      <th>x</th>\n",
       "      <td>50.000000</td>\n",
       "      <td>50.000000</td>\n",
       "    </tr>\n",
       "    <tr>\n",
       "      <th>y</th>\n",
       "      <td>41.866330</td>\n",
       "      <td>58.133670</td>\n",
       "    </tr>\n",
       "    <tr>\n",
       "      <th>z</th>\n",
       "      <td>73.333333</td>\n",
       "      <td>26.666667</td>\n",
       "    </tr>\n",
       "  </tbody>\n",
       "</table>\n",
       "</div>"
      ],
      "text/plain": [
       "         Male     Female\n",
       "a    1.609323  98.390677\n",
       "b   70.000000  30.000000\n",
       "c  100.000000   0.000000\n",
       "d   85.393258  14.606742\n",
       "e   24.631579  75.368421\n",
       "f   92.592593   7.407407\n",
       "g   76.190476  23.809524\n",
       "h   46.969697  53.030303\n",
       "i   13.623978  86.376022\n",
       "j   75.000000  25.000000\n",
       "k   95.833333   4.166667\n",
       "l   51.092896  48.907104\n",
       "m   84.337349  15.662651\n",
       "n   55.324074  44.675926\n",
       "o   83.333333  16.666667\n",
       "p   90.000000  10.000000\n",
       "q    0.000000   0.000000\n",
       "r   80.168776  19.831224\n",
       "s   71.207430  28.792570\n",
       "t   70.689655  29.310345\n",
       "u   66.666667  33.333333\n",
       "v   88.888889  11.111111\n",
       "w   77.272727  22.727273\n",
       "x   50.000000  50.000000\n",
       "y   41.866330  58.133670\n",
       "z   73.333333  26.666667"
      ]
     },
     "execution_count": 60,
     "metadata": {},
     "output_type": "execute_result"
    }
   ],
   "source": [
    "df"
   ]
  },
  {
   "cell_type": "code",
   "execution_count": null,
   "metadata": {
    "collapsed": true
   },
   "outputs": [],
   "source": []
  }
 ],
 "metadata": {
  "anaconda-cloud": {},
  "kernelspec": {
   "display_name": "Python [conda root]",
   "language": "python",
   "name": "conda-root-py"
  },
  "language_info": {
   "codemirror_mode": {
    "name": "ipython",
    "version": 3
   },
   "file_extension": ".py",
   "mimetype": "text/x-python",
   "name": "python",
   "nbconvert_exporter": "python",
   "pygments_lexer": "ipython3",
   "version": "3.5.2"
  }
 },
 "nbformat": 4,
 "nbformat_minor": 0
}
