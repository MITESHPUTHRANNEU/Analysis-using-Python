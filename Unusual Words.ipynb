{
 "cells": [
  {
   "cell_type": "markdown",
   "metadata": {},
   "source": [
    "- Using nps_chat and wordlist corpus.\n",
    "- Finding unusal words people use in online chats that are not used in normal language \n",
    "- For this I am removing the usual words form the nps_chat after comparing it with wordlist "
   ]
  },
  {
   "cell_type": "code",
   "execution_count": 13,
   "metadata": {
    "collapsed": true
   },
   "outputs": [],
   "source": [
    "import nltk  # importing nltk package"
   ]
  },
  {
   "cell_type": "code",
   "execution_count": 14,
   "metadata": {
    "collapsed": true
   },
   "outputs": [],
   "source": [
    "from nltk.corpus import nps_chat  # importing nps_chat\n",
    "from nltk.corpus import words  # importing words"
   ]
  },
  {
   "cell_type": "code",
   "execution_count": 15,
   "metadata": {
    "collapsed": false
   },
   "outputs": [
    {
     "name": "stdout",
     "output_type": "stream",
     "text": [
      "['10-19-20s_706posts.xml', '10-19-30s_705posts.xml', '10-19-40s_686posts.xml', '10-19-adults_706posts.xml', '10-24-40s_706posts.xml', '10-26-teens_706posts.xml', '11-06-adults_706posts.xml', '11-08-20s_705posts.xml', '11-08-40s_706posts.xml', '11-08-adults_705posts.xml', '11-08-teens_706posts.xml', '11-09-20s_706posts.xml', '11-09-40s_706posts.xml', '11-09-adults_706posts.xml', '11-09-teens_706posts.xml']\n"
     ]
    }
   ],
   "source": [
    "all_files = nps_chat.fileids()\n",
    "print(all_files)  # printing all the files in the nps_chat package"
   ]
  },
  {
   "cell_type": "code",
   "execution_count": 16,
   "metadata": {
    "collapsed": true
   },
   "outputs": [],
   "source": [
    "wordsStop = map(str.lower, nltk.corpus.stopwords.words('english')) # reading all the stop words\n",
    "wordsStop = list(wordsStop)"
   ]
  },
  {
   "cell_type": "code",
   "execution_count": 17,
   "metadata": {
    "collapsed": true
   },
   "outputs": [],
   "source": [
    "words = map(str.lower, nltk.corpus.words.words())  # reading all the usual words\n",
    "words = list(set(words) - set(wordsStop)) # remving stop words"
   ]
  },
  {
   "cell_type": "code",
   "execution_count": 18,
   "metadata": {
    "collapsed": true
   },
   "outputs": [],
   "source": [
    "postsList = []\n",
    "for file in all_files :  # iterating through all the files\n",
    "    postsList.extend(nps_chat.posts(file))\n",
    "wordsList = []\n",
    "for post in postsList :  # iterating through all the posts\n",
    "    wordsList.extend(post)\n",
    "uniqueWordList = map(str.lower, set(wordsList))  # removing duplicates\n",
    "uniqueWordList = list(uniqueWordList)"
   ]
  },
  {
   "cell_type": "code",
   "execution_count": 19,
   "metadata": {
    "collapsed": true
   },
   "outputs": [],
   "source": [
    "import string\n",
    "uniqueWordList = list(set(uniqueWordList) - set(wordsStop))\n",
    "#uniqueWordList = [word for word in uniqueWordList if word.isalpha()] # removing numbers, empty string, punctuation\n",
    "uniqueWordList = [''.join(ch for ch in word if ch not in string.punctuation) for word in uniqueWordList] # removing punctuation\n",
    "uniqueWordList = [word for word in uniqueWordList if word] # removing empty string\n",
    "uniqueWordList = [word for word in uniqueWordList if not all(num.isdigit() for num in word)] # removing all the numbers\n",
    "# removing all the usernames\n",
    "uniqueWordList = [word for word in uniqueWordList if not (all(num.isdigit() for num in word[1:]) and word[0] == 'u')]"
   ]
  },
  {
   "cell_type": "code",
   "execution_count": 20,
   "metadata": {
    "collapsed": false
   },
   "outputs": [
    {
     "name": "stdout",
     "output_type": "stream",
     "text": [
      "1536 unusual words people speak in chat.\n"
     ]
    }
   ],
   "source": [
    "# converting all the plurals to singular & all lemmatizing the verb\n",
    "from nltk.stem import WordNetLemmatizer\n",
    "from nltk.tokenize import word_tokenize\n",
    "\n",
    "wnl = WordNetLemmatizer()\n",
    "lemmatized_words = [wnl.lemmatize(token) for token in uniqueWordList] # convert all the words to sigular\n",
    "lemmatized_words = [wnl.lemmatize(token, 'v') for token in lemmatized_words] # lemmatize all the verbs\n",
    "unusualWords = list(set(lemmatized_words) - set(words)) # removing usual words\n",
    "print(len(unusualWords), \"unusual words people speak in chat.\")"
   ]
  },
  {
   "cell_type": "code",
   "execution_count": 21,
   "metadata": {
    "collapsed": false
   },
   "outputs": [
    {
     "name": "stdout",
     "output_type": "stream",
     "text": [
      "['booyah', 'lapd', 'sp', 'gaspppp', 'iamahotniplickme', 'catterick', 'ciara', 'goodnite', 'nad', 'ahahh', 'homeboy', 'lmaoo', 'ewedding', 'computor', 'noo', 'dokken', 'fallz', 'kmph', 'lysol', 'silverstein', 'grrrrrrrr', 'syndorme', 'headach', 'ewww', 'mmmmk', 'beckley', 'hottie', 'willis', 'donut', 'singleeeeeeee', 'whjat', 'lpn', 'mising', 'stans', 'heyyyyyyyy', 'jto', '18st', 'wothough', 'chatr', 'youuuu', 'satisfie', 'tabbed', 'kid', 'babay', 'welome', '  ', 'knw', 'pfft', 'mooooooooooooooooooooooooooo', 'ontrobution', 'fl', 'shpwing', 'horriable', 'raaaaaaaaaaaaaaaaaaaaaaaaaaaaa', 'streched', 'sevendust', 'yummylicious', 'ack', 'cookie', 'wisconsin', 'caint', 'ssid', 'wooooooooooooohoooooooooooooooo', 'naughtier', 'ahh', 'givs', 'subsitute', 'stron', 'whooo', 'whaaa', 'zoloft', 'mama', 'ther', 'fetterline', 'misbeahve', 'muahz', 'permenant', 't he', 'ep', 'johny', 'lampert', 'sheesh', 'serg', 'boinked', 'p u s s y', 'wahoooooooski', 'controll', 'gurls', 'combo', 'gf', 'estefan', 'ono', 'grilfriend', 'poorrr', 'pm', 'proud', 'op', 'huggss', 'can', 'nickleback', 'pweeze', 'heyyy', 'ohwa', 'use full', 'goin', 'ltr', 'kawing', 'mmmomom', 'jk', 'laffin', 'pmsl', 'mena', 'kinda', 'gaaaaaaay', 'pedofile', 'byb', 'yoko', 'giva', 'heee', 'amazingness', 'salsa', 'screach', 'whupped', 'fulfil', 'willams', 'gettign', 'ladis', 'nbc', 'bbbbbyyyyyyyeeeeeeeee', 'talkcity20s', 'okey', 'yu', 'xd', 'ntmn', 'tah', 'gotta', 'muh', 'nevermind', 'hfglhs', 'humm', 'themselvs', 'hgey', 'he', 'magine', 'iamahotnipwithhotnippics', 'appologise', 'dsklgjsdk', 'dr', 'boyz', 'eww', 'h0rny', 'awwww', 'tooo', 'seminilla', 'whistlin', 'bbiam', 'niteeeeeeeeeeeeeeeeeee', 'fergalicious', 'gezzz', 'hmm', 'typin', 'mom', 'froogle', 'smarter', 'bio', 'hehehee', 'seee', 'detroit', 'cyb3r', 'bornagain', 'pming', 'nyc', 'cheking', 'hm', 'dummmm', 'innit', 'yeppers', 'baaaaalllllllliiiiiiinnnnnnnnnnn', 'hiy', 'senor', 'ringtones', 'urself', 'louisianna', 'moonie', 'co op', 'mmmm', 'miiiiiiiiiiiiinnnnnnnnnnneeeeeeeeee', 'yayayayayyy', 'invisiable', 'thinkin', 'ooeer', 'trippy', 'duh', 'happend', 'fing', 'noth', 're', 'hio', 'whered', 'darlin', 'uhhh', 'cya', 'homies', 'tacoma', 'csi', 'louisville', 'babycakeses', 'peolpe', 'hav', 'biatch', 'hott', 'heyyyyyy', 'fucker', 'laguna', 'coudl', 'frm', 'httpforumstalkcitycomtcadultsstart ', 'jus', 'dryer', 'defragging', 'slkfjsldkfjs', 'england', 'tazzmaniane', 'moanin', 'cool1024', 'eeww', 'losted', 'ihavehotnips', 'sicily', 'pas', 'noooooooooooooo', 'teo', 'eeek', 'hmmmmm', 'pujols', 'shes', 'peppersteak', 'httpwwwshadowbotscom', 'teehee', 'criscross', 'eeeeeeeeewwwwwwww', 'heyyyy', 'suked', 'lavendar', 'pp', 'perv', 'daamn', 'meyooky', 'whhhooooo', 'yout', 'ussy', 'wheres', 'irl', 'nicname', 'geesh', 'despie', 'in', 'specalily', 'ja', 'grrrrrring', 'backroom', 'mmmmm', 'mothas', 'rey', 'lesbo', 'lmfao', 'gritt', 'ahah', 'muzak', 'perved', 'hafta', 'lmao', 'hearin', 'phylosipher', 'wuuppin', 'biiiatch', 'chathide', 'hows', 'caiuse', 'handyman', 'va', 'whitey', 'ty', 'trippin', 'definitley', 'nashville', 'errrrr', 'xcitable', 'fwd', 'ehh', 'eticket', 'throught', 'totaly', 'do', 'dood', 'wrek', 'ogan', 'afk', 'beattles', '40splus', 'retared', 'canadain', 'jw', 'iggyd', 'watchin', 'ballin', 'gret', 'raed', 'apoligize', 'uh', 'daveeee', 'tc', 'stuffin', 'burryed', 'nuff', 'ques', 'whitesnake', 'prittier', 'kt', 'atl', 'whatcha', 'chik', 'riiiiight', 'oi', 's', 'bandito', 'eitther', 'comp', 'guyzz', 'standin', 'shhhh', 'awesomee', 'yessum', 'bahahahaa', 'oppsss', 'couldnt', 'fettish', 'meredith', 'pmn', 'benz', 'zro', 'goodnight', 'poooland', 'privmsg', 'huuuuuuuuuuuuuuuuuuuuuuuuuuuuuuuuuuugz', 'nekkies', 'tok', 'perving', 'acros', 'manson', 'gguyyyzzzz', 'tighty', 'cougs', 'qq', 'freaing', 'omggg', 'cpr', 'downnnnnn', 'rapest', 'fock', 'meep', 'zebrahead', 'shups', 'appleton', 'gtg', 'futurama', 'livin', 'chcken', 'dreammm', 'hmph', 'ooopppps', 'waaa', 'yall', 'ooh', 'thnx', 'hotties', 'outta', 'dd', 'ooperative', 'win win', 'grlz', 'oops', 'mhm', 'hang', 'tdr', 'tyvm', 'wowsa', 'adduser', 'beuty', 'wanna', 'laptop', 'screamo', 'yvw', 'cheaking', 'nevah', 'gottsa', 'nothin', 'doin', 'niceeeee', 'driveby', 'hom', 'indiantown', 'fishin', 'every1', 'ooooook', 'ft', 'nj', 'anytime', 'dj', 'tonawanda', 'gmobile', 'hheeyy', 'wher', 'pasa', 'checkin', 'lucifuge', 'awrighty', 'hheeyyyyyyyyyyyyyyyyyyyyyyyyyyyyyyyyyyyyyyyyyyyyyyy', 'btw', 'cusion', 'vm', 'babblein', 'i', 'neone', 'woooohoooo', 'excuuuuuuse', 'pokin', 'boooooooooooglyyyyyy', 'dawg', 'kewl', 'wonderin', 'lookin', 'o0', 'finers', 'puhleaze', 'quistion', 'muahhhhh', 'congrat', 'zzzzzzzz', 'suree', 'copone', 'hugzzzzzzz', 'm', 'tisk', 'prolly', 'thristy', 'infor', 'weeeeeeeeeeeeeeee', 'grettings', 'lasts30', 'who', 'sposs', 'ldskdlsf', 'schmoopies', 'tyrese', 'hangin', ' ', 'kennedy', 'kittie', 'ohh', 'deop', 'ughhh', 'mmmmmmmmmm', 'damnit', '60', 'femine', 'cheeeez', 'ciao', 'dem', 'zzzzzzzing', 'sux', 'hahaha', '3', 'buh', 'roleplay', 'beleive', 'lamborghini', 'whoaaaaaaaaaaaa', 'shinedown', 'convo', 'chattin', 'du', 'congrats', 'soory', 'chica', 'chatt', 'completly', 'uffff', 'offence', 'oo', 'pvt', 'doody', 'sldfjlsdf', 'yoder', 'mri', 'eng', 'msn', 'hawt', 'naples', 'handheld', 'dipset', 'norny', 'heyy', 'akon', 'whisling', 'psh', 'ahhahahaha', 'deleware', 'out', 'dontcha', 'cdt', 'jackie', 'asnwer', 'rn', 'wats', 'cuteass', 'ltnc', 'youuu', 'gayoholic', 'yeee', 'bacl', 'walderslade', 'pleez', 'dokey', 'insuklting', 'bloe', 'nuttin', 'oy', 'iamahotnip', 'mcgraw', 'brwn', 'puter', 'sincy', 'shit', 'jumpin', 'cst', 'mofo', 'nooooooooooooooo', 'scusezzy', 'fishercats', 'ewwwwww', 'awsome', 'unisom', 'pc', 'nc', 'xxxed', 'wubs', 'yarrrr', 'everytime', 'kiddin', 'nicer', 'sum1', 'beeeeehave', 'ovr', 'wana', 'confusting', 'fragged', 'wwwwundergroundcom', 'hooo', 'salut', 'tellin', 'mwahhs', 'ohhh', 'minigames', 'uyes', 'http', 'lawl', 'cooooooooookiiiiiiiiiiiieeeeeeeeeeee', 'proocessing', 'le', 'rotflmao', 'meh', 'sexi', 'litening', 'suprised', 'pssst', 'este', 'ohhhh', 'themself', 'fawk', 'early20s', 'heya', 'hooooo', 'jerkettes', 'it', 'perth', 'heeee', 'nodda', 'mauh', 'tere', 'gonna', 'werd', 'chocha', 'yello', 'stinky', 'barbieee', 'macho', 'cyas', 'kold', 'eeewwwwww', 'ppolitical', 'hgfhgfjgf', 'nerd', 'jush', 'hiyas', 'tryer', 'burito', 'plenaty', 'omnious', 'pdt', 'aolcom', 'il', 'grrrrrrrrrrrrrrrrr', 'whaaaaats', 'hmmmm', 'recomend', 'bb', 'waddup', 'oopps', 'shaun', 'fawked', 'marlaya', 'innocense', 'theere', 'diggin', 'wimmins', 'oldest', 'disocvered', 'myspacecom', 'hahahahahaha', 'muahsssssssssssssssssss', 'suprise', 'yoll', 'dotn', 'ico', 'virius', 'wansta', 'nakey', 'enuff', 'reallly', 'nawwww', 'sdlfkjsj', 'talkin', 'sumpin', 'ctrl', 'scuba', 'splelnig', 'smirkz', 'shaneeeeeeeee', 'typr', 'lmaooo', 'chamillionaire', 'pwns', 'guyz', 'argh', 'agurlwithbigguns', 'intersting', 'whitte', 'dunno', 'descriminate', 'homophobic', 'howz', 'tatatatnanaantatat', 'tennies', 'anithing', 'comenting', 'gurrrrl', 'mwahs', '10th', 'laffs', 'yepper', 'goneee', 'sayn', 'moanz', 'peaceandquiet', 'cardnials', 'sleepin', 'fishercat', 'ummm', 'ifr', 'oppertunity', 'aime', 'hahahaa', 'kfed', 'evertonr', 'elev', 'flippin', 'o', 'davis', 'e1', 'cepn', 'ewjfghky', 'lol', 'imma', 'czeching', 'prono', 'nauty', 'foxwoods', 'actualy', 'vvil', 'boght', 'vmp3 vipt', 'oooooo', 'wantin', 'yikesssss', 'ello', 'jeter', 'isnt', 'tshirt', 'enuf', 'walmart', 'webcam', 'sorta', 'yuuuuuuuuuuuummmmmmmmmmmm', 'rothlisburger', 'f5', 'neverneverland', 'gotaa', 'woooooooooaaaahhhhhhhhhhhh', 'pppppppppppew', 'yikes', 'euphamisms', 'dangit', 'aww', 'mainland', 'ahhah', 'gn', 'seeee', 'zyban', 'heeheeheeheeheehee', 'whoopz', 'bandsaw', 'owuldnt', 'samn', 'fkalicious', 'ryaon', 'appearently', 'eeewww', 'mmmmmmmmmmmmm', 'birdgang', 'whewwwwww', 'jrz', 'ahhhhhhhhhhhhhh', 'ltns', 'chp', 'shup', 'd', 'shorty', 'download', 'poeple', 'sox', 'weeeeeeeee', 'mfer', 'byeeeeeeee', 'ontario', 'armtnpeat', 'smax', 'jajajaaa', 'ehusband', 'dyslexic', 'metallica', 'jerketts', 'beachhhh', 'coem', 'nt', 'others', 'heh', 'ri', 'vroooom', 'hola', 'redneck', 'edgewood', 'maidstone', 'hots', 'dl', 'tks', 'ooo', 'fuckin', 'mmmmmmmmiiiiiiiiinnnnnnnnneeeeeeee', 'thot', 'geessh', 'aimcom', 'caan', 'louder', 'kickass', 'playstation', 'awwwwwwwwww', 'ii', 'sucka', 'gurlie', 'iz', 'tlak', 'thanx', 'spain', 'jujubees', 'dratts', 'b4', 'buddyyyyyy', 'winkz', 'oatmel', 'booboo', 'baord', 'alwys', 'excitin', 'hissy', 'dojn', 'xxxxxx', 'opr', 'thje', 'hmmm', 'loc', 'omg', 'withing', 'hx', 'dirrrrty', 'husteling', 'wigglez', 'n e', 'adreniline', 'geeshh', 'afe', 'an', 'fkajslf', 'alterz', 'lthen', 'fbi', 'mspace', 'est', 'anymore', 'dayum', 'hhaaaaatttee', 'humple', 'lala', 'smallfry', 'tv', 'listenin', 'll', 'gettysburg', 'ciggareets', 'ive', 'lil', 'lousiana', 'horace', 'lyin', 'fawker', 'illin', 'opps', 'okay', 'talkcityadults', 'itz', 'teh', 'bishes', 'wif', 'othah', 'asl', '2pac', 'everone', 'backfrontsidewaysandallaroundtheworld', 'soo', 'welll', 'y', 'vbs', 'skateboard', 'wazz', 'mmm', 'oot', 'imhave', 'pssssh', 'splenda', 'wildcard', 'burried', 'boing', 'febe', 'moochhhhhhhhh', 'ooer', 'brb', 'ohhhhhhhhhhhhhhhh', 'erics', 'wwwwundergroundcomcgibinfindweathergetforecastquery95953fir', 'schlep', 'fillin', 'xbox', 'flatts', 'thx', 'rofl', 'nawp', 'haha', 'whatca', 'uhh', 'vbox', 'petanmart', 'jammies', 'hahhahahaha', 'sry', 'sweetshybbw', 'qwertyuiop', 'uuuhhh', 'freesbee', 'kness', 'glitch', 'chococake', 'neysa', 'yerself', 'jordison', 'paradis', 'contast', 'london', 'ppl', 'yesh', 'tounge', 'owww', 'love4s', 'pffft', 'frags', 'coggieeee', 'yws', 'fuddahnut', 'wth', 'hahahhahah', 'chatroom', 'choc', 'hallo', 'cuddlicious', 'placce', 'wearin', 'hopin', 'capabe', 'ewwww', 'gooo', 'kev', 'photshopped', 'akst', 'prrty', 'aiiiiiiiiiiiiiiiiiiiiiiii', 'n9ne', 'wtf', 'hahahaha', 'spose', 'soojn', 'realise', 'garciae', 'mame', 'mp3', 'ct', 'mkay', 'freeezinggggg', 'llloooozzzzeeerrrrzzzzzzzzzzzzzzzzzzzzzzzzzzzzzzzzzzzzzzzzzzzzzzzzz', 'barbie', 'recieve', 'yoooou', 'o ', 'missn', 'arround', 'yeh', 'nakie', 'tryina', 'hiom', 'goodie', 'hertory', 'sf', 'heeeey', 'balad', 'yooou', 'whou', 'hb', 'johnson', 'movin', 'exwife', 'goooooo', 'porn', 'msutah', 'fliuds', 'tx', 'rutger', 'holdin', 'hahahahahahaha', 'monthes', 'freeeezinggg', 'ahhh', 'be', 'aaaaaaaaaaaaaaaaa', 'lamborgini', 'allo', 'heys', 'hendrix', 'geeze', 'splains', 'luvs', 'coonarsee', 'dat', 'jucilicious', 'aynawy', 'tennesee', 'plz', 'iamahotnipwithpics', 'otay', 'netflix', 'oc', 'hummmm', 'idnt', 'gracemont', 'burger', 'seagull', 'bday', 'heyyyyyyy', 'sheesin', 'sooo', 'ooooooo', 'cripos', 'waitin', 'loveliest', 'receprion', 'url', 'heyheyhey', 'awwwwwww', 'makin', 'lambergini', 'adoted', 'leakin', 'heyyyyy', 'waht', 'fergie', 'grea', 'ahhhhhh', 'newp', 'knockin', 'bigest', 'px', 'injureis', 'sammich', 'mm', 'impared', 'clinicals', 'wv', 'erm', 'nite', 'obbts', 'retahhhhded', 'ooooooooooo', 'latina', 'yup', 'plently', 'cm', 'brbbb', 'clooney', 'twizted', 'any1', 'russion', 'proked', 'mikeeeeeeeeeeeeeeeeeeeeeeeeee', 'fraggle', 'polllution', 'freakin', 'mornin', 'okikes', 'seuss', 'tommorrow', 'currious', 'rollin', 'wyte', 'msners', 'heyyyyyyyyyyyyyy', 'whispre', 'gagas', '1900analsex', 'cu', 'declaw', 'detubetop', 'sexist', 'smoochies', 'arggghhh', 'normy', 'blech', 'comon', 'heheh', 'lubbs', 'canehda', 'me', 'ahahah', 'fck', 'vmp3 v174', 'douchebag', 'sweeeeeeeeet', 'que', 'luverz', 'luv', 'profilrs', '20', 'doupt', 'roadrunner', 'cyber', 'lllllllliiiiiiiiiikeee', 'med', 'hheeyyy', 'playas', 'brooklyn', 'ridin', 'bloooooooood', 'fart', 'pervin', 'plssss', 'oooooooooooglyyyyyyyy', 'eay', '1cos', 'weeeeeeeeeeeeeeeeee', 'bloooooooooood', 'woot', 'jonesboro', 'woah', 'bloooooooooooood', 'creme', 'paxil', 'weenis', 'definately', 'wahoooooooo', 'wooo', 'askin', 'ltnsea', 'email', 'concernin', 'mmmmmmmmmmmmmm', 'bj', 'rumour', 'hhehe', 'fairbanks', 'lool', 'defrags', 'hmmmmmmm', 'connecticutt', 'playin', 'ufc', 'coolcat', 'awwwwww', 'thru', 'xxxxxxxxxx', 'internet', 'o0o', 'huskers', 'kool', 'darwin', 'mmmmmm', 'ps2', 'evah', 'biyatch', 'bro', 'cleveland', 'nadda', 'okies', 'google', 'byeeee', 'antidepressant', 'boyfriend', 'hehehehe', 'ladz', 'ny', 'robbie', 'hahahah', 'nooo', 'whuuped', 'geeshhh', 'teenager', 'sigur', 'gm', 'rarly', 'lucyfur', 'freind', 'hoo', 'everbody', 'down', 'mmmkay', 'wasup', 'beatles', 'forwads', 'dik', 'harley', 'pullin', 'pmers', 'lonley', 'hpa', 'laters', 'sleepover', 'anacna', 'coworkers', 'tmobile', 'goodbye', 'smewchies', 'wussups', 'bwahahahahahahahahahaha', 'ghet', 'halfa', 'chanowner', 'thang', 'nooooo', 'huggs', 'wb', 'homeade', 'wellbutrin', 'liam', 'conway', 'paitently', 'lez', 'italy', 'antisexy', 'bi', 'holocaustyourmom', 'veg', 'as', 'usa', 'laughin', 'chineese', 'fallout', 'umm', 'why', 'comin', 'blankie', 'powter', 'mowin', 'hearthechatters', 'syck', 'orta', 'ooppsss', 'remembah', 'oates', 'depeche', 'youer', 'weeeeeeeeeeeeeeeeeeeeeeeeed', 'dawnstar', 'barfights', 'lovin', 'hehehe', 'tthe', 'waddle', 'tooooooooooo', 'hahaaa', 'yum', 'brady', 'asshole', 'missin', 'azerbaijan', 'beeehave', 'sexcite', 'appologize', 'deeper', 'wc', 'aqwesome', 'sw', 'sumfin', 'tenn', 'cnnecticut', 'blusherz', 'byeeeeeeeeeeeee', 'hawaii', 'miiiiiinnnnnnnnnneeeeeeee', 'telllin', 'lmaoooo', 'nz', 'bbl', 'im', 'mwahhss', 'shouldve', 'cuz', 'nic', 'bc', 'hugggs', 'riiiight', 'abourted', 'bein', 'yw', 'aaahhhh', 'muhaha', 'dya', 'dy', 'kellogs', 'fer', 'wiltou', 'fongul', 'aligator', 'scrollin', 'cyb3rlover', 'dumbass', 'sexiest', 'backatchya', 'okkkkkk', 'prideisland', 'az', 'boi', 'ahhhh', 'sayin', 'edmonton', 'diseast', 'icky', 'nm', 'heyyyyyyyyyy', 'gawd', 'fcktards', 'borat', 'ck', 'eeekk', 'canadaian', 'hel', 'foreplay', 'hih', 'talkiing', 'helloooo', 'othing', 'controllin', 'aterry', 'online', 'birfday', 'elo', 'grrl', 's3x0r', 'girlfriend', 'tennessee', 'ky', 'cyberin', 'hahaaaa', 'donno', 'purty', 'burpin', 'dork', 'thows', 'biiiiiitch', 'fuked', 'coffe', 'salisbury', 'jerimiah', 'passin', 'eroticaust', 'denver', 'bumber', 'mmhmm', 'alohaaa', 'chanop', 'hmmmmmmmm', 'lolol', 'denzel', 'nada', 'hii', 'serties', '2nd', 'brrrrrrr', 'sullivan', 'lix', 'eherpes', 'eeeek', 'hiiii', 'wuts', 'co', 'outa', 'sesky', 'dunkin', 'fella', 'alotta', 'yay', 'fuck', 'meeeeeeeeeeeee', 'mornign', 'raarrrrrr', 'heyyyyyyyyy', 'mami', 'ridem', 'bak', 'byeee', 'joshy', 'msg', 'scuk', 'kneez', 'comprende', 'oooooooooooo', 'soilwork', 'vuela', 'fav', 'oooooooooooooonnnnnnnnnnnneeeeeeeeeeeeeeesssssssss', 'lotsa', 'chingy', 'anythin', 'okd', 'soakin', 'ff', 'irc', 'myspace', 'lurkin', 'multitasking', 'mahn', 'software', 'sunnn', 'lolololll', 'courst', 'havin', 'agaibn', 'twoel', 'akdt', 'dahlin', 'jayse', 'muahhh', 'bootay', 'aiken', '1419teens', 'kookies', 'noooooooooo', 'worl', 'niceeee', 'com', 'jp', 'bitdh', 'jr', 'hyy', 'bwhaha', 'abou', 'pervs', 'anygirl', 'lmaooooo', 'md', 'nortenos', 'respec', 'offa', 'alzheimers', 'drivin', 'ohhhhhh', 'sleep over', 'waz', 'shakin', 'talkcity', 'callifornia', 'hartford', 'wheeeeeeeeeeeeeeeeeeeeeeeeeeeeeeeeee', 'hmmmmmmmmmm', 'strickly', 'aok', 'tootsie', 'compoud', 'grrrrrrrrr', 'yepper s', 've', 'ol', 'kc', 'skydive', 'dvd', 'hohohohhohhoo', 'gorda', ' o y o ', 'pleaseeeee', 'happpy', 'there', 'bf', 'neked', 'gente', 'uk', 'swackhammer', 'ahahha', 'wz', 'yada', 'hahhaa', 'wooooohoooo', 'hr', 'sowwy', 'nickelback', 'ssri', 'affari', 'shoppin', 'wanan', 'nce', 'frst', '2day', 'bachelorette', 'lb', 'akron', 'haaa', 'reschedual', 'nyone', 'pr', 'hahahahaaa', 'foley', 'tryin', 'nah', 'bied', 'martini', 'boed', 'hiii', 'gettin', 'problemo', 'awesomes', 'nd', 'hahah', 'laterssss', 'youre', 'grrr', 'muahssssssssssssssss', 'cmon', 'alot', 'aloha', 'kong', 'withdrawl', 'cali', 'wel', 'smr', 'nebraska', 'paypal', 'ewwwwwww', 'hix', 'blowjob', 'ewwwww', 'nicnames', 'lixxx', 'goddamn', 'pokkies', 'ops', 'ebay', 'biebsa', 'vetrabrate', 'doublewide', 'superhiway', 'estra', 'shinnin', 'hiya', 'nn', 'muah', 'thah', 'roomate', 'gng', 'nono', 'chatland', 'anyyyyyyyyyyyyyyyyy', 'tjhe', 'muahzzzz', 'oooh', 'dman', 'hahahahahahahahahahahahahahahaha', 'onuimso', 'frenchkiss', 'awww', 'didnts', 'kmart', 'balck', 'gamefly']\n"
     ]
    }
   ],
   "source": [
    "print(unusualWords)"
   ]
  },
  {
   "cell_type": "code",
   "execution_count": null,
   "metadata": {
    "collapsed": true
   },
   "outputs": [],
   "source": []
  }
 ],
 "metadata": {
  "anaconda-cloud": {},
  "kernelspec": {
   "display_name": "Python [conda root]",
   "language": "python",
   "name": "conda-root-py"
  },
  "language_info": {
   "codemirror_mode": {
    "name": "ipython",
    "version": 3
   },
   "file_extension": ".py",
   "mimetype": "text/x-python",
   "name": "python",
   "nbconvert_exporter": "python",
   "pygments_lexer": "ipython3",
   "version": "3.5.2"
  }
 },
 "nbformat": 4,
 "nbformat_minor": 0
}
