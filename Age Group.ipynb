{
 "cells": [
  {
   "cell_type": "markdown",
   "metadata": {},
   "source": [
    "- Finding 'user121' and see how many posts he posted in all from all the files under nps_chat.\n",
    "- Finding out how many unique user in each age range group. (20s, 30s, etc.)"
   ]
  },
  {
   "cell_type": "code",
   "execution_count": 1,
   "metadata": {
    "collapsed": true
   },
   "outputs": [],
   "source": [
    "from nltk.corpus import nps_chat as nps"
   ]
  },
  {
   "cell_type": "code",
   "execution_count": 2,
   "metadata": {
    "collapsed": false
   },
   "outputs": [
    {
     "data": {
      "text/plain": [
       "['10-19-20s_706posts.xml',\n",
       " '10-19-30s_705posts.xml',\n",
       " '10-19-40s_686posts.xml',\n",
       " '10-19-adults_706posts.xml',\n",
       " '10-24-40s_706posts.xml',\n",
       " '10-26-teens_706posts.xml',\n",
       " '11-06-adults_706posts.xml',\n",
       " '11-08-20s_705posts.xml',\n",
       " '11-08-40s_706posts.xml',\n",
       " '11-08-adults_705posts.xml',\n",
       " '11-08-teens_706posts.xml',\n",
       " '11-09-20s_706posts.xml',\n",
       " '11-09-40s_706posts.xml',\n",
       " '11-09-adults_706posts.xml',\n",
       " '11-09-teens_706posts.xml']"
      ]
     },
     "execution_count": 2,
     "metadata": {},
     "output_type": "execute_result"
    }
   ],
   "source": [
    "nps.fileids()"
   ]
  },
  {
   "cell_type": "code",
   "execution_count": 3,
   "metadata": {
    "collapsed": false
   },
   "outputs": [
    {
     "data": {
      "text/plain": [
       "nltk.corpus.reader.util.ConcatenatedCorpusView"
      ]
     },
     "execution_count": 3,
     "metadata": {},
     "output_type": "execute_result"
    }
   ],
   "source": [
    "posts = nps.xml_posts()    # Getting all posts content from all nps files.\n",
    "len(posts)\n",
    "type(posts)"
   ]
  },
  {
   "cell_type": "code",
   "execution_count": 4,
   "metadata": {
    "collapsed": true
   },
   "outputs": [],
   "source": [
    "post_count = 0\n",
    "for post in posts:\n",
    "    if post.get('user').endswith('User121'):  # Finding out all posts posted by User121 make a count.\n",
    "        post_count += 1"
   ]
  },
  {
   "cell_type": "code",
   "execution_count": 5,
   "metadata": {
    "collapsed": false
   },
   "outputs": [
    {
     "name": "stdout",
     "output_type": "stream",
     "text": [
      "Total Posts of 'User121' is:  132\n"
     ]
    }
   ],
   "source": [
    "print('Total Posts of \\'User121\\' is: ', post_count)"
   ]
  },
  {
   "cell_type": "code",
   "execution_count": 6,
   "metadata": {
    "collapsed": true
   },
   "outputs": [],
   "source": [
    "user_list_20s = []      # Declearing different list for each age range group.\n",
    "user_list_30s = []\n",
    "user_list_40s = []\n",
    "user_list_adults = []\n",
    "user_list_teens = []"
   ]
  },
  {
   "cell_type": "code",
   "execution_count": 7,
   "metadata": {
    "collapsed": false
   },
   "outputs": [],
   "source": [
    "for file in nps.fileids():      # Going through each file from nps_chat.\n",
    "    posts = nps.xml_posts(file)   # Getting content of each file.\n",
    "    age = file[6:-13]            # Finding age group by filename.\n",
    "    for post in posts:         # Going through each post\n",
    "        if age == '20s':                     # Finding exact age group first.  \n",
    "            user = post.get('user')[10:]          # Then finding user of each post.\n",
    "            if user not in user_list_20s:    # Saving it in related list without redundancy.\n",
    "                user_list_20s.append(user)  \n",
    "        elif age == '30s':\n",
    "            user = post.get('user')[10:]\n",
    "            if user not in user_list_30s:\n",
    "                user_list_30s.append(user)\n",
    "        elif age == '40s':\n",
    "            user = post.get('user')[10:]\n",
    "            if user not in user_list_40s:\n",
    "                user_list_40s.append(user)\n",
    "        elif age == 'adults':\n",
    "            user = post.get('user')[13:]\n",
    "            if user not in user_list_adults:\n",
    "                user_list_adults.append(user)\n",
    "        elif age == 'teens':\n",
    "            user = post.get('user')[12:]\n",
    "            if user not in user_list_teens:\n",
    "                user_list_teens.append(user)"
   ]
  },
  {
   "cell_type": "code",
   "execution_count": 8,
   "metadata": {
    "collapsed": false
   },
   "outputs": [
    {
     "name": "stdout",
     "output_type": "stream",
     "text": [
      "Number of Users in Different Age Range:\n",
      "20s:  162\n",
      "30s:  44\n",
      "40s:  80\n",
      "Adults:  138\n",
      "Teens:  206\n"
     ]
    }
   ],
   "source": [
    "print('Number of Users in Different Age Range:')                \n",
    "print('20s: ', len(user_list_20s))\n",
    "print('30s: ', len(user_list_30s))\n",
    "print('40s: ', len(user_list_40s))\n",
    "print('Adults: ', len(user_list_adults))\n",
    "print('Teens: ', len(user_list_teens))"
   ]
  },
  {
   "cell_type": "code",
   "execution_count": null,
   "metadata": {
    "collapsed": false
   },
   "outputs": [],
   "source": []
  }
 ],
 "metadata": {
  "anaconda-cloud": {},
  "kernelspec": {
   "display_name": "Python [conda root]",
   "language": "python",
   "name": "conda-root-py"
  },
  "language_info": {
   "codemirror_mode": {
    "name": "ipython",
    "version": 3
   },
   "file_extension": ".py",
   "mimetype": "text/x-python",
   "name": "python",
   "nbconvert_exporter": "python",
   "pygments_lexer": "ipython3",
   "version": "3.5.2"
  }
 },
 "nbformat": 4,
 "nbformat_minor": 0
}
