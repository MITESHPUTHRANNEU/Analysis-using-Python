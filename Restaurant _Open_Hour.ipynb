{
 "cells": [
  {
   "cell_type": "markdown",
   "metadata": {},
   "source": [
    "- Reading multiple json files from external data\n",
    "- Creating hierarchy folder structure according to country, city, term.\n",
    "- Distributing all json files under the right subfloder."
   ]
  },
  {
   "cell_type": "code",
   "execution_count": 29,
   "metadata": {
    "collapsed": true
   },
   "outputs": [],
   "source": [
    "from glob import glob\n",
    "import json\n",
    "import os"
   ]
  },
  {
   "cell_type": "code",
   "execution_count": 30,
   "metadata": {
    "collapsed": false
   },
   "outputs": [],
   "source": [
    "def read_files(file_name):      # Creating a function to read files. \n",
    "    with open (file_name, encoding='utf-8', errors=\"ignore\") as file:   # Need to deal with unicode problem.\n",
    "        content = json.load(file)\n",
    "        hierarchy_list = {'country': content['location']['country'],'city': content['location']['city'],\\\n",
    "                          'term': content['term'],'name': content['name'].replace(',',' ')}  # Removing the ',' in some names for later output csv file.\n",
    "        return hierarchy_list"
   ]
  },
  {
   "cell_type": "code",
   "execution_count": 90,
   "metadata": {
    "collapsed": false
   },
   "outputs": [],
   "source": [
    "def file_distribution(dict, file):   # Generating hierarchy folder structure and dump json file\n",
    "    file_name = 'Data Process/' + dict['term'] + '/' + dict['country'] + '/' + dict['city'] + '/' + dict['name'] \\\n",
    "                + '.json'\n",
    "    os.makedirs(os.path.dirname(file_name), exist_ok=True)\n",
    "    fp = open (file_name, 'w')\n",
    "    with open (file, 'r', encoding='utf-8', errors=\"ignore\") as jfile:\n",
    "        fp.write(json.dumps(json.load(jfile)))     \n",
    "    fp.close()"
   ]
  },
  {
   "cell_type": "code",
   "execution_count": 91,
   "metadata": {
    "collapsed": false
   },
   "outputs": [],
   "source": [
    "json_files_path = glob('Data/*.json')     # Calling functions and run get the folder structure.\n",
    "for json_file in json_files_path:\n",
    "    file_distribution(read_files(json_file),json_file)"
   ]
  },
  {
   "cell_type": "markdown",
   "metadata": {},
   "source": [
    "- Reading all restuarants json files.\n",
    "- Getting all required keys and values.\n",
    "- Generating a CSV by reading json files with all the restaurant details (name, location, time of operation, etc)"
   ]
  },
  {
   "cell_type": "code",
   "execution_count": 81,
   "metadata": {
    "collapsed": true
   },
   "outputs": [],
   "source": [
    "import csv"
   ]
  },
  {
   "cell_type": "code",
   "execution_count": 100,
   "metadata": {
    "collapsed": true
   },
   "outputs": [],
   "source": [
    "# Reading file from hierarchy floder 'restaurants' \n",
    "def find_files_path(file_root):\n",
    "    path_list = []\n",
    "    for root,dirs,files in os.walk(file_root):\n",
    "        for filepath in files:\n",
    "            if filepath.endswith('.json'):   \n",
    "                path_list.append(os.path.join(root,filepath)) \n",
    "    return path_list"
   ]
  },
  {
   "cell_type": "code",
   "execution_count": 123,
   "metadata": {
    "collapsed": false
   },
   "outputs": [],
   "source": [
    "# Reading each restaurant_file and get useful information\n",
    "def read_restaurant_files(file_name):\n",
    "    open_hour_list = []\n",
    "    with open (file_name, encoding='utf-8', errors=\"ignore\") as file:  \n",
    "        content = json.load(file)\n",
    "        if 'hours' in content.keys():\n",
    "            for i in range(len(content['hours'][0]['open'])):\n",
    "                open_hour_list.append([content['name'].replace(',',' '), content['location']['country'], \\\n",
    "                                      content['location']['city'], content['hours'][0]['open'][i]['day'], \\\n",
    "                                      content['hours'][0]['open'][i]['start'][:2], content['hours'][0]['open'][i]['start'][-2:], \\\n",
    "                                      content['hours'][0]['open'][i]['end'][:2], content['hours'][0]['open'][i]['end'][-2:]])\n",
    "    return open_hour_list"
   ]
  },
  {
   "cell_type": "code",
   "execution_count": 124,
   "metadata": {
    "collapsed": true
   },
   "outputs": [],
   "source": [
    "# Generating the csv file.\n",
    "def create_csv_file(list,file):\n",
    "    with open(file,'w') as f:\n",
    "        w = csv.writer(f)\n",
    "        w.writerow(['RESTAURANT NAME','COUNTRY','CITY','DAYS OF WEEK','START TIME(HOUR)','START TIME(MINUTE)',\\\n",
    "                    'END TIME(HOUR)','END TIME(MINUTE)'])\n",
    "        for cell in list:\n",
    "            w.writerows(cell)"
   ]
  },
  {
   "cell_type": "code",
   "execution_count": 125,
   "metadata": {
    "collapsed": false
   },
   "outputs": [],
   "source": [
    "# Parsing the arguments get final list of restaurants open hours.\n",
    "whole_list = []\n",
    "restaurants_path = glob('Data Process/restaurants')\n",
    "for jfile in find_files_path(restaurants_path[0]):\n",
    "    whole_list.append(read_restaurant_files(jfile))"
   ]
  },
  {
   "cell_type": "code",
   "execution_count": 126,
   "metadata": {
    "collapsed": true
   },
   "outputs": [],
   "source": [
    "# Creating csv file.\n",
    "create_csv_file(whole_list, 'Restaurants_Open_Hour.csv')"
   ]
  }
 ],
 "metadata": {
  "anaconda-cloud": {},
  "kernelspec": {
   "display_name": "Python [conda root]",
   "language": "python",
   "name": "conda-root-py"
  },
  "language_info": {
   "codemirror_mode": {
    "name": "ipython",
    "version": 3
   },
   "file_extension": ".py",
   "mimetype": "text/x-python",
   "name": "python",
   "nbconvert_exporter": "python",
   "pygments_lexer": "ipython3",
   "version": "3.5.2"
  }
 },
 "nbformat": 4,
 "nbformat_minor": 0
}
