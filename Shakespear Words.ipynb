{
 "cells": [
  {
   "cell_type": "markdown",
   "metadata": {},
   "source": [
    "- Finding out what are the top 5 words that Shakespeare used but we do not use in the current world.\n",
    "- Taking top 50 words from Shakespeare (all 3 books) and top 50 from Web_text (all the records).\n",
    "- Removing the words we still use today, and getting the stop words list. "
   ]
  },
  {
   "cell_type": "code",
   "execution_count": 1,
   "metadata": {
    "collapsed": true
   },
   "outputs": [],
   "source": [
    "from nltk.corpus import gutenberg, webtext"
   ]
  },
  {
   "cell_type": "code",
   "execution_count": 2,
   "metadata": {
    "collapsed": false
   },
   "outputs": [],
   "source": [
    "gb_list = gutenberg.fileids()"
   ]
  },
  {
   "cell_type": "code",
   "execution_count": 3,
   "metadata": {
    "collapsed": true
   },
   "outputs": [],
   "source": [
    "shakespeare_words = []"
   ]
  },
  {
   "cell_type": "code",
   "execution_count": 4,
   "metadata": {
    "collapsed": false
   },
   "outputs": [
    {
     "data": {
      "text/plain": [
       "69340"
      ]
     },
     "execution_count": 4,
     "metadata": {},
     "output_type": "execute_result"
    }
   ],
   "source": [
    "for file in gb_list:                 # Getting all words from Shakespeare's books\n",
    "    if file.startswith('shakespeare'):\n",
    "        for word in gutenberg.words(file):\n",
    "            if word.isalpha():       # Remove punctuation and other non-words\n",
    "                shakespeare_words.append(word.lower())\n",
    "len(shakespeare_words)   "
   ]
  },
  {
   "cell_type": "code",
   "execution_count": 5,
   "metadata": {
    "collapsed": true
   },
   "outputs": [],
   "source": [
    "from nltk.corpus import stopwords"
   ]
  },
  {
   "cell_type": "code",
   "execution_count": 6,
   "metadata": {
    "collapsed": false
   },
   "outputs": [],
   "source": [
    "stop = set(stopwords.words('english'))\n",
    "shake_no_stop_words = []"
   ]
  },
  {
   "cell_type": "code",
   "execution_count": 7,
   "metadata": {
    "collapsed": false
   },
   "outputs": [
    {
     "data": {
      "text/plain": [
       "37032"
      ]
     },
     "execution_count": 7,
     "metadata": {},
     "output_type": "execute_result"
    }
   ],
   "source": [
    "for word in shakespeare_words:      # Removing stop words using build in library\n",
    "    if word.lower() not in stop:\n",
    "        shake_no_stop_words.append(word)\n",
    "len(shake_no_stop_words)"
   ]
  },
  {
   "cell_type": "code",
   "execution_count": 8,
   "metadata": {
    "collapsed": false
   },
   "outputs": [],
   "source": [
    "from nltk import FreqDist"
   ]
  },
  {
   "cell_type": "code",
   "execution_count": 9,
   "metadata": {
    "collapsed": false
   },
   "outputs": [],
   "source": [
    "fd1 = FreqDist(shake_no_stop_words)"
   ]
  },
  {
   "cell_type": "code",
   "execution_count": 10,
   "metadata": {
    "collapsed": false
   },
   "outputs": [],
   "source": [
    "temp_list1 = []"
   ]
  },
  {
   "cell_type": "code",
   "execution_count": 11,
   "metadata": {
    "collapsed": false
   },
   "outputs": [],
   "source": [
    "for word in fd1.keys():\n",
    "    temp_list1.append((word, fd1[word]))"
   ]
  },
  {
   "cell_type": "code",
   "execution_count": 12,
   "metadata": {
    "collapsed": false
   },
   "outputs": [
    {
     "data": {
      "text/plain": [
       "7429"
      ]
     },
     "execution_count": 12,
     "metadata": {},
     "output_type": "execute_result"
    }
   ],
   "source": [
    "sorted_list1 = sorted(temp_list1, key=lambda t:t[1], reverse=True)\n",
    "len(sorted_list1)"
   ]
  },
  {
   "cell_type": "code",
   "execution_count": 13,
   "metadata": {
    "collapsed": false
   },
   "outputs": [
    {
     "name": "stdout",
     "output_type": "stream",
     "text": [
      "Top 50 Frequent Words in Shakespeare's books:\n",
      " ['haue', 'ham', 'thou', 'shall', 'lord', 'come', 'king', 'enter', 'good', 'let', 'thy', 'caesar', 'vs', 'know', 'thee', 'would', 'like', 'vpon', 'brutus', 'bru', 'well', 'hath', 'selfe', 'man', 'may', 'macb', 'yet', 'heere', 'must', 'say', 'tis', 'th', 'speake', 'make', 'loue', 'giue', 'see', 'time', 'night', 'sir', 'one', 'st', 'cassi', 'ile', 'doe', 'hamlet', 'go', 'men', 'hor', 'vp']\n"
     ]
    }
   ],
   "source": [
    "shake_words_list = []\n",
    "for word in sorted_list1:\n",
    "    shake_words_list.append(word[0])         \n",
    "print('Top 50 Frequent Words in Shakespeare\\'s books:\\n', shake_words_list[:50])"
   ]
  },
  {
   "cell_type": "code",
   "execution_count": 14,
   "metadata": {
    "collapsed": true
   },
   "outputs": [],
   "source": [
    "web_list = webtext.fileids()   # Dealing with webtext words"
   ]
  },
  {
   "cell_type": "code",
   "execution_count": 15,
   "metadata": {
    "collapsed": true
   },
   "outputs": [],
   "source": [
    "webtext_words = []"
   ]
  },
  {
   "cell_type": "code",
   "execution_count": 16,
   "metadata": {
    "collapsed": false
   },
   "outputs": [
    {
     "data": {
      "text/plain": [
       "175812"
      ]
     },
     "execution_count": 16,
     "metadata": {},
     "output_type": "execute_result"
    }
   ],
   "source": [
    "for file in web_list:\n",
    "    for word in webtext.words(file):\n",
    "        if word.isalpha() and word.lower() not in stop:    # Removing stop words and punctuations\n",
    "            webtext_words.append(word.lower())\n",
    "len(webtext_words)"
   ]
  },
  {
   "cell_type": "code",
   "execution_count": 17,
   "metadata": {
    "collapsed": true
   },
   "outputs": [],
   "source": [
    "fd2 = FreqDist(webtext_words)"
   ]
  },
  {
   "cell_type": "code",
   "execution_count": 18,
   "metadata": {
    "collapsed": true
   },
   "outputs": [],
   "source": [
    "temp_list2 = []"
   ]
  },
  {
   "cell_type": "code",
   "execution_count": 19,
   "metadata": {
    "collapsed": false
   },
   "outputs": [],
   "source": [
    "for word in fd2.keys():\n",
    "    temp_list2.append((word, fd2[word]))"
   ]
  },
  {
   "cell_type": "code",
   "execution_count": 20,
   "metadata": {
    "collapsed": false
   },
   "outputs": [
    {
     "data": {
      "text/plain": [
       "16303"
      ]
     },
     "execution_count": 20,
     "metadata": {},
     "output_type": "execute_result"
    }
   ],
   "source": [
    "sorted_list2 = sorted(temp_list2, key=lambda t:t[1], reverse=True)\n",
    "len(sorted_list2)"
   ]
  },
  {
   "cell_type": "code",
   "execution_count": 21,
   "metadata": {
    "collapsed": false
   },
   "outputs": [
    {
     "name": "stdout",
     "output_type": "stream",
     "text": [
      "Top 50 Frequent Words in Webtext records:\n",
      " ['girl', 'guy', 'like', 'man', 'know', 'woman', 'yeah', 'page', 'firefox', 'get', 'new', 'chick', 'one', 'oh', 'open', 'window', 'good', 'bookmarks', 'teen', 'well', 'firebird', 'cell', 'right', 'go', 'work', 'bar', 'menu', 'tab', 'lady', 'toolbar', 'boy', 'want', 'think', 'browser', 'jack', 'bookmark', 'old', 'really', 'going', 'download', 'url', 'back', 'time', 'black', 'manager', 'little', 'got', 'crash', 'would', 'button']\n"
     ]
    }
   ],
   "source": [
    "webtext_words_list = []\n",
    "for word in sorted_list2:\n",
    "    webtext_words_list.append(word[0].lower())   \n",
    "print('Top 50 Frequent Words in Webtext records:\\n', webtext_words_list[:50])"
   ]
  },
  {
   "cell_type": "code",
   "execution_count": 24,
   "metadata": {
    "collapsed": true
   },
   "outputs": [],
   "source": [
    "unused_word_list = []"
   ]
  },
  {
   "cell_type": "code",
   "execution_count": 26,
   "metadata": {
    "collapsed": false
   },
   "outputs": [],
   "source": [
    "for word in shake_words_list:                  \n",
    "    if word not in webtext_words_list:        \n",
    "        unused_word_list.append(word)"
   ]
  },
  {
   "cell_type": "code",
   "execution_count": 27,
   "metadata": {
    "collapsed": false
   },
   "outputs": [
    {
     "name": "stdout",
     "output_type": "stream",
     "text": [
      "The Top 5 Words We Don't Use Currently in Shakespeare's Vocabulary:\n",
      " ['haue', 'vpon', 'brutus', 'bru', 'hath']\n"
     ]
    }
   ],
   "source": [
    "print('The Top 5 Words We Don\\'t Use Currently in Shakespeare\\'s Vocabulary:\\n', unused_word_list[0:5])"
   ]
  },
  {
   "cell_type": "code",
   "execution_count": null,
   "metadata": {
    "collapsed": true
   },
   "outputs": [],
   "source": []
  }
 ],
 "metadata": {
  "anaconda-cloud": {},
  "kernelspec": {
   "display_name": "Python [conda root]",
   "language": "python",
   "name": "conda-root-py"
  },
  "language_info": {
   "codemirror_mode": {
    "name": "ipython",
    "version": 3
   },
   "file_extension": ".py",
   "mimetype": "text/x-python",
   "name": "python",
   "nbconvert_exporter": "python",
   "pygments_lexer": "ipython3",
   "version": "3.5.2"
  }
 },
 "nbformat": 4,
 "nbformat_minor": 0
}
