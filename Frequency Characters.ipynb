{
 "cells": [
  {
   "cell_type": "markdown",
   "metadata": {},
   "source": [
    "- Under package Gutenberg getting content from file 'melville-moby_dick.txt.\n",
    "- Finding out frequency of 26 characters. (Turning uppercase into lowercase and counting them as one character)\n",
    "- Sorting all 26 characters in order based on their frequency. (From most frequent to least frequent)"
   ]
  },
  {
   "cell_type": "code",
   "execution_count": 1,
   "metadata": {
    "collapsed": true
   },
   "outputs": [],
   "source": [
    "from nltk.corpus import gutenberg"
   ]
  },
  {
   "cell_type": "code",
   "execution_count": 2,
   "metadata": {
    "collapsed": true
   },
   "outputs": [],
   "source": [
    "raw_text = gutenberg.raw('melville-moby_dick.txt')   # Getting content from file, Use 'RAW'."
   ]
  },
  {
   "cell_type": "code",
   "execution_count": 3,
   "metadata": {
    "collapsed": true
   },
   "outputs": [],
   "source": [
    "char_dict = {}"
   ]
  },
  {
   "cell_type": "code",
   "execution_count": 4,
   "metadata": {
    "collapsed": false
   },
   "outputs": [],
   "source": [
    "for char in raw_text:         \n",
    "    if char.isalpha():         # Finding all alpha and convert uppercase to lowercase, then finding their frequency\n",
    "        char_low = char.lower()\n",
    "        if char_low in char_dict.keys():\n",
    "            char_dict[char_low] += 1\n",
    "        else: \n",
    "            char_dict[char_low] = 1"
   ]
  },
  {
   "cell_type": "code",
   "execution_count": 5,
   "metadata": {
    "collapsed": false
   },
   "outputs": [
    {
     "name": "stdout",
     "output_type": "stream",
     "text": [
      "{'b': 16877, 'l': 42793, 'r': 52134, 'g': 20820, 'u': 26697, 't': 87996, 'i': 65434, 'o': 69326, 'm': 23277, 'f': 20833, 'w': 22222, 'v': 8598, 'd': 38219, 'y': 16872, 'n': 65617, 'c': 22507, 'e': 117092, 'p': 17255, 'z': 632, 'x': 1030, 'a': 77916, 'k': 8059, 'j': 1082, 'h': 62896, 'q': 1556, 's': 64231}\n"
     ]
    }
   ],
   "source": [
    "print(char_dict)"
   ]
  },
  {
   "cell_type": "code",
   "execution_count": 6,
   "metadata": {
    "collapsed": true
   },
   "outputs": [],
   "source": [
    "import operator"
   ]
  },
  {
   "cell_type": "code",
   "execution_count": 7,
   "metadata": {
    "collapsed": true
   },
   "outputs": [],
   "source": [
    "sorted_freq_list = list(sorted(char_dict.items(), key=operator.itemgetter(1), reverse=True))  # Sort dictionary"
   ]
  },
  {
   "cell_type": "code",
   "execution_count": 8,
   "metadata": {
    "collapsed": false
   },
   "outputs": [
    {
     "name": "stdout",
     "output_type": "stream",
     "text": [
      "The Order of Characters by Their frequency:\n",
      " ['e', 't', 'a', 'o', 'n', 'i', 's', 'h', 'r', 'l', 'd', 'u', 'm', 'c', 'w', 'f', 'g', 'p', 'b', 'y', 'v', 'k', 'q', 'j', 'x', 'z']\n"
     ]
    }
   ],
   "source": [
    "new_list = []\n",
    "for char in sorted_freq_list:     # Print 26 characters in order base on their frequency as a list\n",
    "    new_list.append(char[0])\n",
    "print('The Order of Characters by Their frequency:\\n', new_list)"
   ]
  },
  {
   "cell_type": "code",
   "execution_count": null,
   "metadata": {
    "collapsed": true
   },
   "outputs": [],
   "source": []
  }
 ],
 "metadata": {
  "anaconda-cloud": {},
  "kernelspec": {
   "display_name": "Python [conda root]",
   "language": "python",
   "name": "conda-root-py"
  },
  "language_info": {
   "codemirror_mode": {
    "name": "ipython",
    "version": 3
   },
   "file_extension": ".py",
   "mimetype": "text/x-python",
   "name": "python",
   "nbconvert_exporter": "python",
   "pygments_lexer": "ipython3",
   "version": "3.5.2"
  }
 },
 "nbformat": 4,
 "nbformat_minor": 0
}
